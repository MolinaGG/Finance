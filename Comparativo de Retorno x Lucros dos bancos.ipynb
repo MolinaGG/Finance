{
  "cells": [
    {
      "cell_type": "markdown",
      "id": "9dec2f87-6092-459f-bcad-fa65696174a0",
      "metadata": {
        "id": "9dec2f87-6092-459f-bcad-fa65696174a0"
      },
      "source": [
        "# Projeto 1"
      ]
    },
    {
      "cell_type": "code",
      "execution_count": 6,
      "id": "29a095b5-717f-41a8-92f3-97d62cc76dbe",
      "metadata": {
        "id": "29a095b5-717f-41a8-92f3-97d62cc76dbe"
      },
      "outputs": [],
      "source": [
        "import pandas as pd\n",
        "import matplotlib.pyplot as plt\n",
        "import matplotlib.ticker as mtick\n",
        "import yfinance as yf\n",
        "import openpyxl as op"
      ]
    },
    {
      "cell_type": "code",
      "execution_count": 7,
      "id": "c0c18089-20a5-4c55-b7e5-3965f0538f71",
      "metadata": {
        "id": "c0c18089-20a5-4c55-b7e5-3965f0538f71"
      },
      "outputs": [],
      "source": [
        "lista_tickers = [\"ITUB4.SA\", 'BBAS3.SA', \"SANB4.SA\", \"BBDC4.SA\", \"^BVSP\"]"
      ]
    },
    {
      "cell_type": "code",
      "execution_count": 8,
      "id": "886d953e-6bb2-473e-824f-aac98cf38ff5",
      "metadata": {
        "id": "886d953e-6bb2-473e-824f-aac98cf38ff5"
      },
      "outputs": [
        {
          "name": "stderr",
          "output_type": "stream",
          "text": [
            "[*********************100%%**********************]  5 of 5 completed\n"
          ]
        },
        {
          "data": {
            "text/html": [
              "<div>\n",
              "<style scoped>\n",
              "    .dataframe tbody tr th:only-of-type {\n",
              "        vertical-align: middle;\n",
              "    }\n",
              "\n",
              "    .dataframe tbody tr th {\n",
              "        vertical-align: top;\n",
              "    }\n",
              "\n",
              "    .dataframe thead th {\n",
              "        text-align: right;\n",
              "    }\n",
              "</style>\n",
              "<table border=\"1\" class=\"dataframe\">\n",
              "  <thead>\n",
              "    <tr style=\"text-align: right;\">\n",
              "      <th>Ticker</th>\n",
              "      <th>BBAS3.SA</th>\n",
              "      <th>BBDC4.SA</th>\n",
              "      <th>ITUB4.SA</th>\n",
              "      <th>SANB4.SA</th>\n",
              "      <th>^BVSP</th>\n",
              "    </tr>\n",
              "    <tr>\n",
              "      <th>Date</th>\n",
              "      <th></th>\n",
              "      <th></th>\n",
              "      <th></th>\n",
              "      <th></th>\n",
              "      <th></th>\n",
              "    </tr>\n",
              "  </thead>\n",
              "  <tbody>\n",
              "    <tr>\n",
              "      <th>2010-01-04</th>\n",
              "      <td>5.520325</td>\n",
              "      <td>6.973938</td>\n",
              "      <td>10.610387</td>\n",
              "      <td>4.719924</td>\n",
              "      <td>70045.0</td>\n",
              "    </tr>\n",
              "    <tr>\n",
              "      <th>2010-01-05</th>\n",
              "      <td>5.464935</td>\n",
              "      <td>6.939621</td>\n",
              "      <td>10.679144</td>\n",
              "      <td>4.719924</td>\n",
              "      <td>70240.0</td>\n",
              "    </tr>\n",
              "    <tr>\n",
              "      <th>2010-01-06</th>\n",
              "      <td>5.472323</td>\n",
              "      <td>6.884104</td>\n",
              "      <td>10.586583</td>\n",
              "      <td>4.719924</td>\n",
              "      <td>70729.0</td>\n",
              "    </tr>\n",
              "    <tr>\n",
              "      <th>2010-01-07</th>\n",
              "      <td>5.474166</td>\n",
              "      <td>6.865598</td>\n",
              "      <td>10.478152</td>\n",
              "      <td>4.719924</td>\n",
              "      <td>70451.0</td>\n",
              "    </tr>\n",
              "    <tr>\n",
              "      <th>2010-01-08</th>\n",
              "      <td>5.505556</td>\n",
              "      <td>6.858193</td>\n",
              "      <td>10.319469</td>\n",
              "      <td>4.719924</td>\n",
              "      <td>70263.0</td>\n",
              "    </tr>\n",
              "    <tr>\n",
              "      <th>...</th>\n",
              "      <td>...</td>\n",
              "      <td>...</td>\n",
              "      <td>...</td>\n",
              "      <td>...</td>\n",
              "      <td>...</td>\n",
              "    </tr>\n",
              "    <tr>\n",
              "      <th>2022-04-25</th>\n",
              "      <td>14.333274</td>\n",
              "      <td>16.310904</td>\n",
              "      <td>22.350563</td>\n",
              "      <td>15.453597</td>\n",
              "      <td>110685.0</td>\n",
              "    </tr>\n",
              "    <tr>\n",
              "      <th>2022-04-26</th>\n",
              "      <td>14.011084</td>\n",
              "      <td>15.610647</td>\n",
              "      <td>21.590109</td>\n",
              "      <td>14.751159</td>\n",
              "      <td>108213.0</td>\n",
              "    </tr>\n",
              "    <tr>\n",
              "      <th>2022-04-27</th>\n",
              "      <td>14.073042</td>\n",
              "      <td>15.704575</td>\n",
              "      <td>21.415281</td>\n",
              "      <td>14.759940</td>\n",
              "      <td>109349.0</td>\n",
              "    </tr>\n",
              "    <tr>\n",
              "      <th>2022-04-28</th>\n",
              "      <td>14.048259</td>\n",
              "      <td>15.559407</td>\n",
              "      <td>21.240475</td>\n",
              "      <td>14.601892</td>\n",
              "      <td>109919.0</td>\n",
              "    </tr>\n",
              "    <tr>\n",
              "      <th>2022-04-29</th>\n",
              "      <td>13.721941</td>\n",
              "      <td>15.354454</td>\n",
              "      <td>20.864607</td>\n",
              "      <td>14.601892</td>\n",
              "      <td>107876.0</td>\n",
              "    </tr>\n",
              "  </tbody>\n",
              "</table>\n",
              "<p>3056 rows × 5 columns</p>\n",
              "</div>"
            ],
            "text/plain": [
              "Ticker       BBAS3.SA   BBDC4.SA   ITUB4.SA   SANB4.SA     ^BVSP\n",
              "Date                                                            \n",
              "2010-01-04   5.520325   6.973938  10.610387   4.719924   70045.0\n",
              "2010-01-05   5.464935   6.939621  10.679144   4.719924   70240.0\n",
              "2010-01-06   5.472323   6.884104  10.586583   4.719924   70729.0\n",
              "2010-01-07   5.474166   6.865598  10.478152   4.719924   70451.0\n",
              "2010-01-08   5.505556   6.858193  10.319469   4.719924   70263.0\n",
              "...               ...        ...        ...        ...       ...\n",
              "2022-04-25  14.333274  16.310904  22.350563  15.453597  110685.0\n",
              "2022-04-26  14.011084  15.610647  21.590109  14.751159  108213.0\n",
              "2022-04-27  14.073042  15.704575  21.415281  14.759940  109349.0\n",
              "2022-04-28  14.048259  15.559407  21.240475  14.601892  109919.0\n",
              "2022-04-29  13.721941  15.354454  20.864607  14.601892  107876.0\n",
              "\n",
              "[3056 rows x 5 columns]"
            ]
          },
          "metadata": {},
          "output_type": "display_data"
        }
      ],
      "source": [
        "dados_bancarios = yf.download(lista_tickers, start = \"2010-01-01\", end = \"2022-04-30\")\n",
        "\n",
        "dados_bancarios = dados_bancarios[\"Adj Close\"]\n",
        "\n",
        "display(dados_bancarios)"
      ]
    },
    {
      "cell_type": "code",
      "execution_count": 9,
      "id": "ec89f175-2afc-4c2d-bf42-e9c853bc6bf5",
      "metadata": {
        "id": "ec89f175-2afc-4c2d-bf42-e9c853bc6bf5"
      },
      "outputs": [
        {
          "data": {
            "text/html": [
              "<div>\n",
              "<style scoped>\n",
              "    .dataframe tbody tr th:only-of-type {\n",
              "        vertical-align: middle;\n",
              "    }\n",
              "\n",
              "    .dataframe tbody tr th {\n",
              "        vertical-align: top;\n",
              "    }\n",
              "\n",
              "    .dataframe thead th {\n",
              "        text-align: right;\n",
              "    }\n",
              "</style>\n",
              "<table border=\"1\" class=\"dataframe\">\n",
              "  <thead>\n",
              "    <tr style=\"text-align: right;\">\n",
              "      <th></th>\n",
              "      <th>data</th>\n",
              "      <th>bradesco</th>\n",
              "      <th>banco_do_brasil</th>\n",
              "      <th>itau</th>\n",
              "      <th>santander</th>\n",
              "    </tr>\n",
              "  </thead>\n",
              "  <tbody>\n",
              "    <tr>\n",
              "      <th>0</th>\n",
              "      <td>2009-12-31</td>\n",
              "      <td>8012282</td>\n",
              "      <td>10147522</td>\n",
              "      <td>10066608</td>\n",
              "      <td>1805899</td>\n",
              "    </tr>\n",
              "    <tr>\n",
              "      <th>1</th>\n",
              "      <td>2021-12-31</td>\n",
              "      <td>21945688</td>\n",
              "      <td>19710402</td>\n",
              "      <td>24988000</td>\n",
              "      <td>14987716</td>\n",
              "    </tr>\n",
              "  </tbody>\n",
              "</table>\n",
              "</div>"
            ],
            "text/plain": [
              "        data  bradesco  banco_do_brasil      itau  santander\n",
              "0 2009-12-31   8012282         10147522  10066608    1805899\n",
              "1 2021-12-31  21945688         19710402  24988000   14987716"
            ]
          },
          "execution_count": 9,
          "metadata": {},
          "output_type": "execute_result"
        }
      ],
      "source": [
        "lucro_bancos = pd.read_excel(\"lucro_bancos_2010_2022.xlsx\")\n",
        "\n",
        "lucro_bancos"
      ]
    },
    {
      "cell_type": "markdown",
      "id": "7b968bf3-d589-4d49-9eea-b420833c7fea",
      "metadata": {
        "id": "7b968bf3-d589-4d49-9eea-b420833c7fea"
      },
      "source": [
        "### Conceitos importantes"
      ]
    },
    {
      "cell_type": "code",
      "execution_count": 10,
      "id": "5ab60971-638b-42c4-b77e-3a6afb944df3",
      "metadata": {
        "id": "5ab60971-638b-42c4-b77e-3a6afb944df3"
      },
      "outputs": [],
      "source": [
        "data_frame_com_colunas_selecionadas = dados_bancarios[[\"BBDC4.SA\", \"ITUB4.SA\"]]"
      ]
    },
    {
      "cell_type": "code",
      "execution_count": 11,
      "id": "9074db4b-5312-4a5b-a05f-7099be5cc90a",
      "metadata": {
        "id": "9074db4b-5312-4a5b-a05f-7099be5cc90a"
      },
      "outputs": [],
      "source": [
        "dados_2015 = dados_bancarios[dados_bancarios.index > \"2015-01-01\"]"
      ]
    },
    {
      "cell_type": "code",
      "execution_count": 12,
      "id": "36c9a6df-7076-4e88-81ed-456b08935462",
      "metadata": {
        "id": "36c9a6df-7076-4e88-81ed-456b08935462"
      },
      "outputs": [],
      "source": [
        "cotacao_maior_que_15 = dados_bancarios[dados_bancarios[\"ITUB4.SA\"] > 15]"
      ]
    },
    {
      "cell_type": "markdown",
      "id": "35921877-57e1-4d4e-b240-f3eaa9029da7",
      "metadata": {
        "id": "35921877-57e1-4d4e-b240-f3eaa9029da7"
      },
      "source": [
        "### Voltando ao nosso projeto"
      ]
    },
    {
      "cell_type": "code",
      "execution_count": 13,
      "id": "49467a17-c6df-4424-bac3-64c01adcb7c7",
      "metadata": {
        "id": "49467a17-c6df-4424-bac3-64c01adcb7c7"
      },
      "outputs": [
        {
          "data": {
            "text/plain": [
              "Date\n",
              "2010-01-04     70045.0\n",
              "2010-01-05     70240.0\n",
              "2010-01-06     70729.0\n",
              "2010-01-07     70451.0\n",
              "2010-01-08     70263.0\n",
              "                ...   \n",
              "2022-04-25    110685.0\n",
              "2022-04-26    108213.0\n",
              "2022-04-27    109349.0\n",
              "2022-04-28    109919.0\n",
              "2022-04-29    107876.0\n",
              "Name: ^BVSP, Length: 3056, dtype: float64"
            ]
          },
          "execution_count": 13,
          "metadata": {},
          "output_type": "execute_result"
        }
      ],
      "source": [
        "itau = dados_bancarios[\"ITUB4.SA\"]\n",
        "bradesco = dados_bancarios[\"BBDC4.SA\"]\n",
        "banco_do_brasil = dados_bancarios[\"BBAS3.SA\"]\n",
        "santander = dados_bancarios[\"SANB4.SA\"]\n",
        "dados_mercado = dados_bancarios[\"^BVSP\"]\n",
        "\n",
        "dados_mercado"
      ]
    },
    {
      "cell_type": "code",
      "execution_count": 14,
      "id": "ef7462a5-335c-4fde-89c1-adc62b2df8ef",
      "metadata": {
        "id": "ef7462a5-335c-4fde-89c1-adc62b2df8ef"
      },
      "outputs": [],
      "source": [
        "def retorno(lista_cotacoes):\n",
        "\n",
        "    retorno = lista_cotacoes[-1]/lista_cotacoes[0] - 1\n",
        "\n",
        "    return retorno"
      ]
    },
    {
      "cell_type": "code",
      "execution_count": 15,
      "id": "e7c3490c-d7b7-479e-b3d2-6a92b1769f60",
      "metadata": {
        "id": "e7c3490c-d7b7-479e-b3d2-6a92b1769f60"
      },
      "outputs": [
        {
          "name": "stderr",
          "output_type": "stream",
          "text": [
            "C:\\Users\\guilh\\AppData\\Local\\Temp\\ipykernel_6964\\1300698524.py:3: FutureWarning: Series.__getitem__ treating keys as positions is deprecated. In a future version, integer keys will always be treated as labels (consistent with DataFrame behavior). To access a value by position, use `ser.iloc[pos]`\n",
            "  retorno = lista_cotacoes[-1]/lista_cotacoes[0] - 1\n"
          ]
        },
        {
          "data": {
            "text/plain": [
              "0.5400956527946321"
            ]
          },
          "execution_count": 15,
          "metadata": {},
          "output_type": "execute_result"
        }
      ],
      "source": [
        "retorno_itau = retorno(itau)\n",
        "retorno_bradesco = retorno(bradesco)\n",
        "retorno_banco_brasil = retorno(banco_do_brasil)\n",
        "retorno_santander = retorno(santander)\n",
        "retorno_dados_mercado = retorno(dados_mercado)\n",
        "\n",
        "retorno_dados_mercado"
      ]
    },
    {
      "cell_type": "code",
      "execution_count": 16,
      "id": "39d62282-0b6a-4255-9f5f-713bfba42f0f",
      "metadata": {
        "id": "39d62282-0b6a-4255-9f5f-713bfba42f0f"
      },
      "outputs": [
        {
          "data": {
            "text/html": [
              "<div>\n",
              "<style scoped>\n",
              "    .dataframe tbody tr th:only-of-type {\n",
              "        vertical-align: middle;\n",
              "    }\n",
              "\n",
              "    .dataframe tbody tr th {\n",
              "        vertical-align: top;\n",
              "    }\n",
              "\n",
              "    .dataframe thead th {\n",
              "        text-align: right;\n",
              "    }\n",
              "</style>\n",
              "<table border=\"1\" class=\"dataframe\">\n",
              "  <thead>\n",
              "    <tr style=\"text-align: right;\">\n",
              "      <th></th>\n",
              "      <th>retornos</th>\n",
              "    </tr>\n",
              "  </thead>\n",
              "  <tbody>\n",
              "    <tr>\n",
              "      <th>Itau</th>\n",
              "      <td>0.966432</td>\n",
              "    </tr>\n",
              "    <tr>\n",
              "      <th>Bradesco</th>\n",
              "      <td>1.201691</td>\n",
              "    </tr>\n",
              "    <tr>\n",
              "      <th>Banco do Brasil</th>\n",
              "      <td>1.485713</td>\n",
              "    </tr>\n",
              "    <tr>\n",
              "      <th>Santander</th>\n",
              "      <td>2.093671</td>\n",
              "    </tr>\n",
              "    <tr>\n",
              "      <th>Ibovespa</th>\n",
              "      <td>0.540096</td>\n",
              "    </tr>\n",
              "  </tbody>\n",
              "</table>\n",
              "</div>"
            ],
            "text/plain": [
              "                 retornos\n",
              "Itau             0.966432\n",
              "Bradesco         1.201691\n",
              "Banco do Brasil  1.485713\n",
              "Santander        2.093671\n",
              "Ibovespa         0.540096"
            ]
          },
          "execution_count": 16,
          "metadata": {},
          "output_type": "execute_result"
        }
      ],
      "source": [
        "df_retornos = pd.DataFrame(\n",
        "\n",
        "    data = {\"retornos\": [retorno_itau, retorno_bradesco, retorno_banco_brasil, retorno_santander, retorno_dados_mercado]},\n",
        "    index = [\"Itau\", \"Bradesco\", \"Banco do Brasil\", \"Santander\", \"Ibovespa\"]\n",
        "\n",
        ")\n",
        "\n",
        "df_retornos"
      ]
    },
    {
      "cell_type": "code",
      "execution_count": 17,
      "id": "f6c7d652-61f1-41d0-895c-e9cf202eca4a",
      "metadata": {
        "id": "f6c7d652-61f1-41d0-895c-e9cf202eca4a"
      },
      "outputs": [
        {
          "data": {
            "text/html": [
              "<div>\n",
              "<style scoped>\n",
              "    .dataframe tbody tr th:only-of-type {\n",
              "        vertical-align: middle;\n",
              "    }\n",
              "\n",
              "    .dataframe tbody tr th {\n",
              "        vertical-align: top;\n",
              "    }\n",
              "\n",
              "    .dataframe thead th {\n",
              "        text-align: right;\n",
              "    }\n",
              "</style>\n",
              "<table border=\"1\" class=\"dataframe\">\n",
              "  <thead>\n",
              "    <tr style=\"text-align: right;\">\n",
              "      <th></th>\n",
              "      <th>retornos</th>\n",
              "    </tr>\n",
              "  </thead>\n",
              "  <tbody>\n",
              "    <tr>\n",
              "      <th>Itau</th>\n",
              "      <td>96.643225</td>\n",
              "    </tr>\n",
              "    <tr>\n",
              "      <th>Bradesco</th>\n",
              "      <td>120.169065</td>\n",
              "    </tr>\n",
              "    <tr>\n",
              "      <th>Banco do Brasil</th>\n",
              "      <td>148.571266</td>\n",
              "    </tr>\n",
              "    <tr>\n",
              "      <th>Santander</th>\n",
              "      <td>209.367112</td>\n",
              "    </tr>\n",
              "    <tr>\n",
              "      <th>Ibovespa</th>\n",
              "      <td>54.009565</td>\n",
              "    </tr>\n",
              "  </tbody>\n",
              "</table>\n",
              "</div>"
            ],
            "text/plain": [
              "                   retornos\n",
              "Itau              96.643225\n",
              "Bradesco         120.169065\n",
              "Banco do Brasil  148.571266\n",
              "Santander        209.367112\n",
              "Ibovespa          54.009565"
            ]
          },
          "execution_count": 17,
          "metadata": {},
          "output_type": "execute_result"
        }
      ],
      "source": [
        "df_retornos[\"retornos\"] = df_retornos[\"retornos\"] * 100\n",
        "\n",
        "df_retornos"
      ]
    },
    {
      "cell_type": "code",
      "execution_count": 18,
      "id": "c48ff92a-5416-4d5e-8874-4d1d74c5e36e",
      "metadata": {
        "id": "c48ff92a-5416-4d5e-8874-4d1d74c5e36e"
      },
      "outputs": [
        {
          "data": {
            "text/html": [
              "<div>\n",
              "<style scoped>\n",
              "    .dataframe tbody tr th:only-of-type {\n",
              "        vertical-align: middle;\n",
              "    }\n",
              "\n",
              "    .dataframe tbody tr th {\n",
              "        vertical-align: top;\n",
              "    }\n",
              "\n",
              "    .dataframe thead th {\n",
              "        text-align: right;\n",
              "    }\n",
              "</style>\n",
              "<table border=\"1\" class=\"dataframe\">\n",
              "  <thead>\n",
              "    <tr style=\"text-align: right;\">\n",
              "      <th></th>\n",
              "      <th>retornos</th>\n",
              "    </tr>\n",
              "  </thead>\n",
              "  <tbody>\n",
              "    <tr>\n",
              "      <th>Santander</th>\n",
              "      <td>209.367112</td>\n",
              "    </tr>\n",
              "    <tr>\n",
              "      <th>Banco do Brasil</th>\n",
              "      <td>148.571266</td>\n",
              "    </tr>\n",
              "    <tr>\n",
              "      <th>Bradesco</th>\n",
              "      <td>120.169065</td>\n",
              "    </tr>\n",
              "    <tr>\n",
              "      <th>Itau</th>\n",
              "      <td>96.643225</td>\n",
              "    </tr>\n",
              "    <tr>\n",
              "      <th>Ibovespa</th>\n",
              "      <td>54.009565</td>\n",
              "    </tr>\n",
              "  </tbody>\n",
              "</table>\n",
              "</div>"
            ],
            "text/plain": [
              "                   retornos\n",
              "Santander        209.367112\n",
              "Banco do Brasil  148.571266\n",
              "Bradesco         120.169065\n",
              "Itau              96.643225\n",
              "Ibovespa          54.009565"
            ]
          },
          "execution_count": 18,
          "metadata": {},
          "output_type": "execute_result"
        }
      ],
      "source": [
        "df_retornos = df_retornos.sort_values(by = \"retornos\", ascending = False)\n",
        "\n",
        "df_retornos"
      ]
    },
    {
      "cell_type": "code",
      "execution_count": 19,
      "id": "71d93b07-9c64-44ca-81fa-c73e52e3325d",
      "metadata": {
        "id": "71d93b07-9c64-44ca-81fa-c73e52e3325d"
      },
      "outputs": [
        {
          "name": "stdout",
          "output_type": "stream",
          "text": [
            "Collecting mplcyberpunk\n",
            "  Downloading mplcyberpunk-0.7.1-py3-none-any.whl.metadata (546 bytes)\n",
            "Requirement already satisfied: matplotlib in c:\\users\\guilh\\appdata\\local\\packages\\pythonsoftwarefoundation.python.3.11_qbz5n2kfra8p0\\localcache\\local-packages\\python311\\site-packages (from mplcyberpunk) (3.8.1)\n",
            "Requirement already satisfied: contourpy>=1.0.1 in c:\\users\\guilh\\appdata\\local\\packages\\pythonsoftwarefoundation.python.3.11_qbz5n2kfra8p0\\localcache\\local-packages\\python311\\site-packages (from matplotlib->mplcyberpunk) (1.2.0)\n",
            "Requirement already satisfied: cycler>=0.10 in c:\\users\\guilh\\appdata\\local\\packages\\pythonsoftwarefoundation.python.3.11_qbz5n2kfra8p0\\localcache\\local-packages\\python311\\site-packages (from matplotlib->mplcyberpunk) (0.12.1)\n",
            "Requirement already satisfied: fonttools>=4.22.0 in c:\\users\\guilh\\appdata\\local\\packages\\pythonsoftwarefoundation.python.3.11_qbz5n2kfra8p0\\localcache\\local-packages\\python311\\site-packages (from matplotlib->mplcyberpunk) (4.44.3)\n",
            "Requirement already satisfied: kiwisolver>=1.3.1 in c:\\users\\guilh\\appdata\\local\\packages\\pythonsoftwarefoundation.python.3.11_qbz5n2kfra8p0\\localcache\\local-packages\\python311\\site-packages (from matplotlib->mplcyberpunk) (1.4.5)\n",
            "Requirement already satisfied: numpy<2,>=1.21 in c:\\users\\guilh\\appdata\\local\\packages\\pythonsoftwarefoundation.python.3.11_qbz5n2kfra8p0\\localcache\\local-packages\\python311\\site-packages (from matplotlib->mplcyberpunk) (1.26.2)\n",
            "Requirement already satisfied: packaging>=20.0 in c:\\users\\guilh\\appdata\\local\\packages\\pythonsoftwarefoundation.python.3.11_qbz5n2kfra8p0\\localcache\\local-packages\\python311\\site-packages (from matplotlib->mplcyberpunk) (23.2)\n",
            "Requirement already satisfied: pillow>=8 in c:\\users\\guilh\\appdata\\local\\packages\\pythonsoftwarefoundation.python.3.11_qbz5n2kfra8p0\\localcache\\local-packages\\python311\\site-packages (from matplotlib->mplcyberpunk) (10.1.0)\n",
            "Requirement already satisfied: pyparsing>=2.3.1 in c:\\users\\guilh\\appdata\\local\\packages\\pythonsoftwarefoundation.python.3.11_qbz5n2kfra8p0\\localcache\\local-packages\\python311\\site-packages (from matplotlib->mplcyberpunk) (3.1.1)\n",
            "Requirement already satisfied: python-dateutil>=2.7 in c:\\users\\guilh\\appdata\\local\\packages\\pythonsoftwarefoundation.python.3.11_qbz5n2kfra8p0\\localcache\\local-packages\\python311\\site-packages (from matplotlib->mplcyberpunk) (2.8.2)\n",
            "Requirement already satisfied: six>=1.5 in c:\\users\\guilh\\appdata\\local\\packages\\pythonsoftwarefoundation.python.3.11_qbz5n2kfra8p0\\localcache\\local-packages\\python311\\site-packages (from python-dateutil>=2.7->matplotlib->mplcyberpunk) (1.16.0)\n",
            "Downloading mplcyberpunk-0.7.1-py3-none-any.whl (6.4 kB)\n",
            "Installing collected packages: mplcyberpunk\n",
            "Successfully installed mplcyberpunk-0.7.1\n"
          ]
        },
        {
          "name": "stderr",
          "output_type": "stream",
          "text": [
            "\n",
            "[notice] A new release of pip is available: 24.0 -> 24.2\n",
            "[notice] To update, run: C:\\Users\\guilh\\AppData\\Local\\Microsoft\\WindowsApps\\PythonSoftwareFoundation.Python.3.11_qbz5n2kfra8p0\\python.exe -m pip install --upgrade pip\n"
          ]
        }
      ],
      "source": [
        "!pip install mplcyberpunk"
      ]
    },
    {
      "cell_type": "code",
      "execution_count": 20,
      "id": "90866131-3fd4-4a56-a21c-484edf6f828c",
      "metadata": {
        "id": "90866131-3fd4-4a56-a21c-484edf6f828c"
      },
      "outputs": [],
      "source": [
        "import mplcyberpunk"
      ]
    },
    {
      "cell_type": "code",
      "execution_count": 21,
      "id": "131f2dae-4194-4de1-986d-caec2a94c3c6",
      "metadata": {
        "id": "131f2dae-4194-4de1-986d-caec2a94c3c6"
      },
      "outputs": [],
      "source": [
        "plt.style.use(\"cyberpunk\")"
      ]
    },
    {
      "cell_type": "code",
      "execution_count": 22,
      "id": "ffeab6e3-4540-4726-ada8-1d91f1a66f2e",
      "metadata": {
        "id": "ffeab6e3-4540-4726-ada8-1d91f1a66f2e"
      },
      "outputs": [
        {
          "data": {
            "image/png": "[encoded data removed]",
            "text/plain": [
              "<Figure size 640x480 with 1 Axes>"
            ]
          },
          "metadata": {},
          "output_type": "display_data"
        }
      ],
      "source": [
        "fig, ax = plt.subplots()\n",
        "\n",
        "ax.bar(df_retornos.index, df_retornos[\"retornos\"])\n",
        "ax.yaxis.set_major_formatter(mtick.PercentFormatter())\n",
        "\n",
        "plt.xticks(fontsize = 9)\n",
        "\n",
        "plt.show()"
      ]
    },
    {
      "cell_type": "code",
      "execution_count": 23,
      "id": "3c5f199b-3b3a-422c-a0ff-ffe1d6b212d8",
      "metadata": {
        "id": "3c5f199b-3b3a-422c-a0ff-ffe1d6b212d8"
      },
      "outputs": [
        {
          "data": {
            "text/html": [
              "<div>\n",
              "<style scoped>\n",
              "    .dataframe tbody tr th:only-of-type {\n",
              "        vertical-align: middle;\n",
              "    }\n",
              "\n",
              "    .dataframe tbody tr th {\n",
              "        vertical-align: top;\n",
              "    }\n",
              "\n",
              "    .dataframe thead th {\n",
              "        text-align: right;\n",
              "    }\n",
              "</style>\n",
              "<table border=\"1\" class=\"dataframe\">\n",
              "  <thead>\n",
              "    <tr style=\"text-align: right;\">\n",
              "      <th></th>\n",
              "      <th>data</th>\n",
              "      <th>bradesco</th>\n",
              "      <th>banco_do_brasil</th>\n",
              "      <th>itau</th>\n",
              "      <th>santander</th>\n",
              "    </tr>\n",
              "  </thead>\n",
              "  <tbody>\n",
              "    <tr>\n",
              "      <th>0</th>\n",
              "      <td>2009-12-31</td>\n",
              "      <td>8012282</td>\n",
              "      <td>10147522</td>\n",
              "      <td>10066608</td>\n",
              "      <td>1805899</td>\n",
              "    </tr>\n",
              "    <tr>\n",
              "      <th>1</th>\n",
              "      <td>2021-12-31</td>\n",
              "      <td>21945688</td>\n",
              "      <td>19710402</td>\n",
              "      <td>24988000</td>\n",
              "      <td>14987716</td>\n",
              "    </tr>\n",
              "  </tbody>\n",
              "</table>\n",
              "</div>"
            ],
            "text/plain": [
              "        data  bradesco  banco_do_brasil      itau  santander\n",
              "0 2009-12-31   8012282         10147522  10066608    1805899\n",
              "1 2021-12-31  21945688         19710402  24988000   14987716"
            ]
          },
          "execution_count": 23,
          "metadata": {},
          "output_type": "execute_result"
        }
      ],
      "source": [
        "lucro_bancos"
      ]
    },
    {
      "cell_type": "code",
      "execution_count": 24,
      "id": "c1742b0d-f256-4ba2-a239-e650ffd11a94",
      "metadata": {
        "id": "c1742b0d-f256-4ba2-a239-e650ffd11a94"
      },
      "outputs": [
        {
          "data": {
            "text/html": [
              "<div>\n",
              "<style scoped>\n",
              "    .dataframe tbody tr th:only-of-type {\n",
              "        vertical-align: middle;\n",
              "    }\n",
              "\n",
              "    .dataframe tbody tr th {\n",
              "        vertical-align: top;\n",
              "    }\n",
              "\n",
              "    .dataframe thead th {\n",
              "        text-align: right;\n",
              "    }\n",
              "</style>\n",
              "<table border=\"1\" class=\"dataframe\">\n",
              "  <thead>\n",
              "    <tr style=\"text-align: right;\">\n",
              "      <th></th>\n",
              "      <th>bradesco</th>\n",
              "      <th>banco_do_brasil</th>\n",
              "      <th>itau</th>\n",
              "      <th>santander</th>\n",
              "    </tr>\n",
              "    <tr>\n",
              "      <th>data</th>\n",
              "      <th></th>\n",
              "      <th></th>\n",
              "      <th></th>\n",
              "      <th></th>\n",
              "    </tr>\n",
              "  </thead>\n",
              "  <tbody>\n",
              "    <tr>\n",
              "      <th>2009-12-31</th>\n",
              "      <td>8012282</td>\n",
              "      <td>10147522</td>\n",
              "      <td>10066608</td>\n",
              "      <td>1805899</td>\n",
              "    </tr>\n",
              "    <tr>\n",
              "      <th>2021-12-31</th>\n",
              "      <td>21945688</td>\n",
              "      <td>19710402</td>\n",
              "      <td>24988000</td>\n",
              "      <td>14987716</td>\n",
              "    </tr>\n",
              "  </tbody>\n",
              "</table>\n",
              "</div>"
            ],
            "text/plain": [
              "            bradesco  banco_do_brasil      itau  santander\n",
              "data                                                      \n",
              "2009-12-31   8012282         10147522  10066608    1805899\n",
              "2021-12-31  21945688         19710402  24988000   14987716"
            ]
          },
          "execution_count": 24,
          "metadata": {},
          "output_type": "execute_result"
        }
      ],
      "source": [
        "lucro_bancos = lucro_bancos.set_index(\"data\")\n",
        "\n",
        "lucro_bancos"
      ]
    },
    {
      "cell_type": "code",
      "execution_count": 25,
      "id": "42f2da64-1fac-42ac-8266-045eab3ad37d",
      "metadata": {
        "id": "42f2da64-1fac-42ac-8266-045eab3ad37d"
      },
      "outputs": [
        {
          "data": {
            "text/plain": [
              "bradesco           1.739006\n",
              "banco_do_brasil    0.942386\n",
              "itau               1.482266\n",
              "santander          7.299310\n",
              "dtype: float64"
            ]
          },
          "execution_count": 25,
          "metadata": {},
          "output_type": "execute_result"
        }
      ],
      "source": [
        "var_lucro_bancos = lucro_bancos.iloc[-1]/lucro_bancos.iloc[0] - 1\n",
        "\n",
        "var_lucro_bancos"
      ]
    },
    {
      "cell_type": "code",
      "execution_count": 26,
      "id": "ee100b9a-1ec7-46ad-8306-026d7c78ffb3",
      "metadata": {
        "id": "ee100b9a-1ec7-46ad-8306-026d7c78ffb3"
      },
      "outputs": [],
      "source": [
        "var_lucro_bancos = var_lucro_bancos * 100"
      ]
    },
    {
      "cell_type": "code",
      "execution_count": 27,
      "id": "5fc12653-4865-46e8-88ea-9b8c3fae2d85",
      "metadata": {
        "id": "5fc12653-4865-46e8-88ea-9b8c3fae2d85"
      },
      "outputs": [],
      "source": [
        "var_lucro_bancos = var_lucro_bancos.sort_values(ascending = False)"
      ]
    },
    {
      "cell_type": "code",
      "execution_count": 28,
      "id": "82087529-ae53-42b0-9823-33dbf0935096",
      "metadata": {
        "id": "82087529-ae53-42b0-9823-33dbf0935096"
      },
      "outputs": [
        {
          "data": {
            "image/png": "[encoded data removed]",
            "text/plain": [
              "<Figure size 640x480 with 1 Axes>"
            ]
          },
          "metadata": {},
          "output_type": "display_data"
        }
      ],
      "source": [
        "fig, ax = plt.subplots()\n",
        "\n",
        "ax.bar(var_lucro_bancos.index, var_lucro_bancos.values)\n",
        "ax.yaxis.set_major_formatter(mtick.PercentFormatter())\n",
        "\n",
        "plt.xticks(fontsize = 9)\n",
        "\n",
        "plt.show()"
      ]
    },
    {
      "cell_type": "code",
      "execution_count": 29,
      "id": "a2852874-6870-4a57-84aa-97006b87a2e0",
      "metadata": {
        "id": "a2852874-6870-4a57-84aa-97006b87a2e0"
      },
      "outputs": [
        {
          "data": {
            "image/png": "[encoded data removed]",
            "text/plain": [
              "<Figure size 640x480 with 1 Axes>"
            ]
          },
          "metadata": {},
          "output_type": "display_data"
        }
      ],
      "source": [
        "fig, ax = plt.subplots()\n",
        "\n",
        "ax.bar(df_retornos.index, df_retornos[\"retornos\"])\n",
        "ax.yaxis.set_major_formatter(mtick.PercentFormatter())\n",
        "\n",
        "plt.xticks(fontsize = 9)\n",
        "\n",
        "plt.show()"
      ]
    },
    {
      "cell_type": "markdown",
      "id": "6704f11a-8844-4ccc-a9c9-c1476cfb1430",
      "metadata": {
        "id": "6704f11a-8844-4ccc-a9c9-c1476cfb1430"
      },
      "source": [
        "# Projeto 2"
      ]
    },
    {
      "cell_type": "code",
      "execution_count": 30,
      "id": "22557dc1-7e70-4c72-8ae3-a5fd3c6ccc46",
      "metadata": {
        "id": "22557dc1-7e70-4c72-8ae3-a5fd3c6ccc46"
      },
      "outputs": [],
      "source": [
        "import pandas as pd\n",
        "import matplotlib.pyplot as plt\n",
        "import mplcyberpunk\n",
        "import yfinance as yf\n",
        "plt.style.use(\"cyberpunk\")"
      ]
    },
    {
      "cell_type": "code",
      "execution_count": 31,
      "id": "621d1f9d-bcde-4bdb-a0ad-0cc4c3a568e4",
      "metadata": {
        "id": "621d1f9d-bcde-4bdb-a0ad-0cc4c3a568e4"
      },
      "outputs": [
        {
          "name": "stderr",
          "output_type": "stream",
          "text": [
            "[*********************100%%**********************]  1 of 1 completed\n",
            "[*********************100%%**********************]  1 of 1 completed\n"
          ]
        }
      ],
      "source": [
        "itau = yf.download(\"ITUB4.SA\", start = \"2010-01-01\", end = \"2022-04-30\")[\"Adj Close\"]\n",
        "bradesco = yf.download(\"BBDC4.SA\", start = \"2010-01-01\", end = \"2022-04-30\")[\"Adj Close\"]"
      ]
    },
    {
      "cell_type": "code",
      "execution_count": 32,
      "id": "c8020c09-d5da-43ab-8908-1d2d9395c48a",
      "metadata": {
        "id": "c8020c09-d5da-43ab-8908-1d2d9395c48a"
      },
      "outputs": [],
      "source": [
        "def resample_periodo(dado, periodo):\n",
        "\n",
        "    dado_periodo_novo = dado.resample(f\"{periodo}\").last()\n",
        "    dado_periodo_novo = dado_periodo_novo.pct_change()\n",
        "    dado_periodo_novo = dado_periodo_novo.dropna()\n",
        "\n",
        "    return dado_periodo_novo\n",
        "\n"
      ]
    },
    {
      "cell_type": "code",
      "execution_count": 33,
      "id": "c3a8f75d-9990-4d19-b757-a3f791e8b650",
      "metadata": {
        "id": "c3a8f75d-9990-4d19-b757-a3f791e8b650"
      },
      "outputs": [],
      "source": [
        "def long_short(long, short, periodo):\n",
        "\n",
        "    var_long = resample_periodo(long, periodo)\n",
        "    var_short = resample_periodo(short, periodo)\n",
        "\n",
        "    outperform = (var_long - var_short) * 100\n",
        "    print(outperform)\n",
        "    plt.plot(outperform)"
      ]
    },
    {
      "cell_type": "code",
      "execution_count": 34,
      "id": "aa3bf840-9350-4de3-a9e2-8221139050af",
      "metadata": {
        "id": "aa3bf840-9350-4de3-a9e2-8221139050af"
      },
      "outputs": [
        {
          "name": "stdout",
          "output_type": "stream",
          "text": [
            "Date\n",
            "2011-12-31    -8.801053\n",
            "2012-12-31   -16.242133\n",
            "2013-12-31    15.535478\n",
            "2014-12-31    -2.885146\n",
            "2015-12-31    17.876875\n",
            "2016-12-31   -23.733299\n",
            "2017-12-31    -2.886166\n",
            "2018-12-31    -2.083037\n",
            "2019-12-31   -13.436248\n",
            "2020-12-31     2.668694\n",
            "2021-12-31   -12.749677\n",
            "2022-12-31    10.901116\n",
            "Freq: A-DEC, Name: Adj Close, dtype: float64\n"
          ]
        },
        {
          "data": {
            "image/png": "[encoded data removed]",
            "text/plain": [
              "<Figure size 640x480 with 1 Axes>"
            ]
          },
          "metadata": {},
          "output_type": "display_data"
        }
      ],
      "source": [
        "long_short(itau, bradesco, \"Y\")"
      ]
    },
    {
      "cell_type": "code",
      "execution_count": null,
      "id": "ad4ad2d9-9ddd-4cfc-b210-a63a70459dde",
      "metadata": {
        "id": "ad4ad2d9-9ddd-4cfc-b210-a63a70459dde"
      },
      "outputs": [],
      "source": []
    },
    {
      "cell_type": "code",
      "execution_count": null,
      "id": "32651805-ee6f-4463-94fe-1d0cbc3289a7",
      "metadata": {
        "id": "32651805-ee6f-4463-94fe-1d0cbc3289a7"
      },
      "outputs": [],
      "source": []
    },
    {
      "cell_type": "code",
      "execution_count": null,
      "id": "dd0bc8a4-efb1-4427-8e0c-c81b2642f1bc",
      "metadata": {
        "id": "dd0bc8a4-efb1-4427-8e0c-c81b2642f1bc"
      },
      "outputs": [],
      "source": []
    },
    {
      "cell_type": "code",
      "execution_count": null,
      "id": "a87fb406-a9bb-4853-9b5c-6f81008f921d",
      "metadata": {
        "id": "a87fb406-a9bb-4853-9b5c-6f81008f921d"
      },
      "outputs": [],
      "source": []
    },
    {
      "cell_type": "code",
      "execution_count": null,
      "id": "b56d745f-7b16-43de-beac-bcaf7257f1f8",
      "metadata": {
        "id": "b56d745f-7b16-43de-beac-bcaf7257f1f8"
      },
      "outputs": [],
      "source": []
    },
    {
      "cell_type": "code",
      "execution_count": null,
      "id": "7487742a-4103-4874-84be-b2a2f5eae068",
      "metadata": {
        "id": "7487742a-4103-4874-84be-b2a2f5eae068"
      },
      "outputs": [],
      "source": []
    },
    {
      "cell_type": "code",
      "execution_count": null,
      "id": "f4c91112-dcf5-46c6-9023-b59224126298",
      "metadata": {
        "id": "f4c91112-dcf5-46c6-9023-b59224126298"
      },
      "outputs": [],
      "source": []
    },
    {
      "cell_type": "code",
      "execution_count": null,
      "id": "6079bac2-8622-493b-9215-95f7a2c76840",
      "metadata": {
        "id": "6079bac2-8622-493b-9215-95f7a2c76840"
      },
      "outputs": [],
      "source": []
    },
    {
      "cell_type": "code",
      "execution_count": null,
      "id": "1bd8d26f-f9f4-4f6e-98c2-d1962ad88f58",
      "metadata": {
        "id": "1bd8d26f-f9f4-4f6e-98c2-d1962ad88f58"
      },
      "outputs": [],
      "source": []
    },
    {
      "cell_type": "code",
      "execution_count": null,
      "id": "8087661b-68ed-4d5a-931f-e869472266dd",
      "metadata": {
        "id": "8087661b-68ed-4d5a-931f-e869472266dd"
      },
      "outputs": [],
      "source": []
    },
    {
      "cell_type": "code",
      "execution_count": null,
      "id": "5bfacdda-3fba-4f6b-bc2a-aeaae6010543",
      "metadata": {
        "id": "5bfacdda-3fba-4f6b-bc2a-aeaae6010543"
      },
      "outputs": [],
      "source": []
    }
  ],
  "metadata": {
    "colab": {
      "provenance": []
    },
    "kernelspec": {
      "display_name": "Python 3 (ipykernel)",
      "language": "python",
      "name": "python3"
    },
    "language_info": {
      "codemirror_mode": {
        "name": "ipython",
        "version": 3
      },
      "file_extension": ".py",
      "mimetype": "text/x-python",
      "name": "python",
      "nbconvert_exporter": "python",
      "pygments_lexer": "ipython3",
      "version": "3.11.9"
    }
  },
  "nbformat": 4,
  "nbformat_minor": 5
}
